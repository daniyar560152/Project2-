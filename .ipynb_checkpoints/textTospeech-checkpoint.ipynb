{
 "cells": [
  {
   "cell_type": "code",
   "execution_count": 1,
   "metadata": {},
   "outputs": [],
   "source": [
    "import re\n",
    "import wave\n",
    "import pyaudio\n",
    "import _thread\n",
    "import time"
   ]
  },
  {
   "cell_type": "code",
   "execution_count": 2,
   "metadata": {},
   "outputs": [],
   "source": [
    "class TextToSpeech:\n",
    "    \n",
    "    chars = 1024"
   ]
  },
  {
   "cell_type": "code",
   "execution_count": 4,
   "metadata": {},
   "outputs": [],
   "source": [
    "   def __init__(self, Pronouncewithfile:str = 'cmudict-0.7b.txt'):\n",
    "        self.var1 = {}\n",
    "        self.constructorWords(Pronouncewithfile)"
   ]
  },
  {
   "cell_type": "code",
   "execution_count": 5,
   "metadata": {},
   "outputs": [],
   "source": [
    "def constructorWords(self, Pronouncewithfile:str):\n",
    "        with open(Pronouncewithfile, 'r') as file:\n",
    "            for x in file:\n",
    "                if not x.startswith(';;;'):\n",
    "                    index, val = x.split('  ',2)\n",
    "                    self.var1[index] = re.findall(r\"[A-Z]+\",val)"
   ]
  },
  {
   "cell_type": "code",
   "execution_count": 6,
   "metadata": {},
   "outputs": [],
   "source": [
    "def Pronounceit(self, Entertext):\n",
    "        arrayofPronounce = []\n",
    "        for word in re.findall(r\"[\\w']+\",Entertext.upper()):\n",
    "            if word in self.var1:\n",
    "                arrayofPronounce += self.var1[word]\n",
    "        print(arrayofPronounce)\n",
    "        delay=0\n",
    "        for pron in arrayofPronounce:\n",
    "            _thread.start_new_thread( TextToSpeech.textToSpeech, (pron,delay,))\n",
    "            delay += 0.800"
   ]
  },
  {
   "cell_type": "code",
   "execution_count": 7,
   "metadata": {},
   "outputs": [],
   "source": [
    "def textToSpeech(sound, delay):\n",
    "        try:\n",
    "            time.sleep(delay)\n",
    "            WAV = wave.open(\"sounds/\"+sound+\".wav\", 'rb')\n",
    "            p = pyaudio.PyAudio()\n",
    "            stream = p.open(format=p.get_format_from_width(WAV.getsampwidth()),\n",
    "                            channels=WAV.getnchannels(),\n",
    "                            rate=WAV.getframerate(),\n",
    "                            output=True)\n",
    "            \n",
    "            data = WAV.readframes(TextToSpeech.chars)\n",
    "            \n",
    "            while data:\n",
    "                stream.write(data)\n",
    "                data = WAV.readframes(TextToSpeech.chars)\n",
    "        \n",
    "            stream.stop_stream()\n",
    "            stream.close()\n",
    "            p.terminate()\n",
    "            return\n",
    "        except:\n",
    "            pass"
   ]
  },
  {
   "cell_type": "code",
   "execution_count": null,
   "metadata": {},
   "outputs": [
    {
     "name": "stdout",
     "output_type": "stream",
     "text": [
      "I am waiting your text) : hi\n",
      "['HH', 'AY']\n"
     ]
    }
   ],
   "source": [
    "if __name__ == '__main__':\n",
    "    neuralSpeech = TextToSpeech()\n",
    "    while True:\n",
    "        neuralSpeech.Pronounceit(input('I am waiting your text) : '))"
   ]
  }
 ],
 "metadata": {
  "kernelspec": {
   "display_name": "Python 3 (ipykernel)",
   "language": "python",
   "name": "python3"
  },
  "language_info": {
   "codemirror_mode": {
    "name": "ipython",
    "version": 3
   },
   "file_extension": ".py",
   "mimetype": "text/x-python",
   "name": "python",
   "nbconvert_exporter": "python",
   "pygments_lexer": "ipython3",
   "version": "3.9.7"
  }
 },
 "nbformat": 4,
 "nbformat_minor": 2
}
