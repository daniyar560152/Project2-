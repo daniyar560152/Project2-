{
 "cells": [
  {
   "cell_type": "code",
   "execution_count": 1,
   "id": "a8788e0e",
   "metadata": {},
   "outputs": [],
   "source": [
    "import re\n",
    "import wave\n",
    "import pyaudio\n",
    "import _thread\n",
    "import time\n"
   ]
  },
  {
   "cell_type": "code",
   "execution_count": 26,
   "id": "089becec",
   "metadata": {},
   "outputs": [],
   "source": [
    "class TextToSpeech:\n",
    "    \n",
    "    CHUNK = 1024"
   ]
  }
 ],
 "metadata": {
  "kernelspec": {
   "display_name": "Python 3 (ipykernel)",
   "language": "python",
   "name": "python3"
  },
  "language_info": {
   "codemirror_mode": {
    "name": "ipython",
    "version": 3
   },
   "file_extension": ".py",
   "mimetype": "text/x-python",
   "name": "python",
   "nbconvert_exporter": "python",
   "pygments_lexer": "ipython3",
   "version": "3.9.7"
  }
 },
 "nbformat": 4,
 "nbformat_minor": 5
}
